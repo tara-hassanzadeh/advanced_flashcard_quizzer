{
  "nbformat": 4,
  "nbformat_minor": 0,
  "metadata": {
    "colab": {
      "provenance": [],
      "authorship_tag": "ABX9TyMC0gZhoR1KEJgK8HW6nbWm",
      "include_colab_link": true
    },
    "kernelspec": {
      "name": "python3",
      "display_name": "Python 3"
    },
    "language_info": {
      "name": "python"
    }
  },
  "cells": [
    {
      "cell_type": "markdown",
      "metadata": {
        "id": "view-in-github",
        "colab_type": "text"
      },
      "source": [
        "<a href=\"https://colab.research.google.com/github/tara-hassanzadeh/advanced_flashcard_quizzer/blob/main/advanced_flashcard_quizzer.ipynb\" target=\"_parent\"><img src=\"https://colab.research.google.com/assets/colab-badge.svg\" alt=\"Open In Colab\"/></a>"
      ]
    },
    {
      "cell_type": "markdown",
      "source": [
        "Advanced flashcard quizzer"
      ],
      "metadata": {
        "id": "2G45VioSSL51"
      }
    },
    {
      "cell_type": "code",
      "source": [
        "import json\n",
        "\n",
        "flashcards = {\n",
        "    \"Geography\": [\n",
        "        {\"question\": \"What is the capital of France?\", \"answer\": \"Paris\"},\n",
        "        {\"question\": \"Which continent is Brazil in?\", \"answer\": \"South America\"}\n",
        "    ],\n",
        "    \"Science\": [\n",
        "        {\"question\": \"What planet is known as the Red Planet?\", \"answer\": \"Mars\"},\n",
        "        {\"question\": \"What is H2O commonly known as?\", \"answer\": \"Water\"}\n",
        "    ]\n",
        "}\n",
        "\n",
        "with open(\"flashcards.json\", \"w\") as f:\n",
        "    json.dump(flashcards, f)"
      ],
      "metadata": {
        "id": "5_jYvV6WYiMk"
      },
      "execution_count": 5,
      "outputs": []
    },
    {
      "cell_type": "code",
      "execution_count": 13,
      "metadata": {
        "colab": {
          "base_uri": "https://localhost:8080/"
        },
        "id": "o5SvXImGSKIq",
        "outputId": "1d09b42b-d63d-476a-fdf5-1e760267e105"
      },
      "outputs": [
        {
          "output_type": "stream",
          "name": "stdout",
          "text": [
            "welcome to the flashcard quizzer\n",
            "\n",
            "availabe categories\n",
            "1. Geography\n",
            "2. Science\n",
            "enter the number of the category you want to choose: 2\n",
            "\n",
            "starting quiz for category: Science\n",
            "question: What planet is known as the Red Planet?\n",
            "your answer (or type 'exit' to quit): mars\n",
            "correct!\n",
            "time taken:3seconds\n",
            "\n",
            "question: What is H2O commonly known as?\n",
            "your answer (or type 'exit' to quit): water\n",
            "correct!\n",
            "time taken:4seconds\n",
            "\n",
            "quiz finished!\n",
            "score:2/2\n",
            "success rate:100.0%\n"
          ]
        }
      ],
      "source": [
        "import json\n",
        "import time\n",
        "class FlashcardQuizzer:\n",
        "  def __init__(self, filename):\n",
        "    self.filename = filename\n",
        "    self.flashcards = self.load_flashcards()\n",
        "    self.score =0\n",
        "    self.total =0\n",
        "  def load_flashcards(self):\n",
        "    try:\n",
        "      with open(self.filename, 'r') as file:\n",
        "        return json.load(file)\n",
        "    except FileNotFoundError:\n",
        "      print(\"flashcards  file not found.\")\n",
        "      return []\n",
        "  def choose_category(self):\n",
        "    categories=list(self.flashcards.keys())\n",
        "    print(\"\\navailabe categories\")\n",
        "    for idx, cat in enumerate(categories):\n",
        "      print(f\"{idx+1}. {cat}\")\n",
        "    choice=input(\"enter the number of the category you want to choose: \")\n",
        "    if choice.isdigit() and 1<=int(choice)<=len(categories):\n",
        "      return categories[int(choice)-1]\n",
        "    else:\n",
        "      print(\"invalid choice. please try again.\")\n",
        "      return categories[0]\n",
        "  def start_quiz(self):\n",
        "    print(\"welcome to the flashcard quizzer\")\n",
        "    category=self.choose_category()\n",
        "    cards=self.flashcards.get(category, [])\n",
        "    print(f\"\\nstarting quiz for category: {category}\")\n",
        "    for card in cards:\n",
        "      print(f\"question: {card['question']}\")\n",
        "      start =time.time()\n",
        "      answer=input(\"your answer (or type 'exit' to quit): \")\n",
        "      if answer.lower()=='exit':\n",
        "        break\n",
        "      end =time.time()\n",
        "      self.total+=1\n",
        "      if answer.lower()==card['answer'].lower():\n",
        "        print(\"correct!\")\n",
        "        self.score+=1\n",
        "      else:\n",
        "        print(f\"incorrect. the correct answer is: {card['answer']}\")\n",
        "      print(f\"time taken:{round(end-start)}seconds\\n\")\n",
        "    self.show_results()\n",
        "  def show_results(self):\n",
        "    print(\"quiz finished!\")\n",
        "    print(f\"score:{self.score}/{self.total}\")\n",
        "    if self.total:\n",
        "      percent=(self.score / self.total)*100\n",
        "      print(f\"success rate:{round(percent, 2)}%\")\n",
        "if __name__==\"__main__\":\n",
        "  quiz = FlashcardQuizzer(\"flashcards.json\")\n",
        "  quiz.start_quiz()"
      ]
    }
  ]
}